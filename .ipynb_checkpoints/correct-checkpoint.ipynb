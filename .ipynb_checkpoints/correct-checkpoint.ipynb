{
 "cells": [
  {
   "cell_type": "code",
   "execution_count": 1,
   "id": "137414f3",
   "metadata": {
    "pycharm": {
     "name": "#%%\n"
    }
   },
   "outputs": [],
   "source": [
    "# Importing Libraries\n",
    "import re\n",
    "import enchant  # to load custom dictionary\n",
    "from enchant.checker import SpellChecker  # for autocorrecting colum using defined custom dictionary\n",
    "import glob  # for loading multiple Excel files without specifying the names\n",
    "import pandas as pd  # For reading and modifying"
   ]
  },
  {
   "cell_type": "code",
   "execution_count": 2,
   "id": "92b7fddb",
   "metadata": {},
   "outputs": [],
   "source": [
    "path = 'data'  # directory where data can be found\n",
    "files = glob.glob(path + '/*.xlsx')  # Specifying the file extension for the file type .xlsx, .csv etc"
   ]
  },
  {
   "cell_type": "code",
   "execution_count": 4,
   "id": "72f8410d",
   "metadata": {},
   "outputs": [
    {
     "name": "stdout",
     "output_type": "stream",
     "text": [
      "data\\CCDB_35207_Ind_Dna.xlsx\n",
      "data\\CCDB_35213_Ind_Dna.xlsx\n",
      "data\\CCDB_35762_Ind_Dna.xlsx\n",
      "data\\CCDB_35763_Ind_Dna.xlsx\n",
      "data\\CCDB_35768_Ind_Dna.xlsx\n",
      "data\\CCDB_35769_Ind_Dna.xlsx\n",
      "data\\CCDB_35772_Ind_Dna.xlsx\n",
      "data\\CCDB_35774_Ind_Dna.xlsx\n",
      "data\\CCDB_37617_Ind_Dna.xlsx\n",
      "data\\CCDB_37622_Ind_Dna.xlsx\n",
      "data\\CCDB_37623_Ind_Dna.xlsx\n",
      "data\\CCDB_37632_Ind_Dna.xlsx\n"
     ]
    }
   ],
   "source": [
    "for file in files:\n",
    "    print(file)"
   ]
  },
  {
   "cell_type": "code",
   "execution_count": 8,
   "id": "dbbf4b55",
   "metadata": {},
   "outputs": [
    {
     "name": "stdout",
     "output_type": "stream",
     "text": [
      "corrected\\CCDB_35207_Ind_Dna_corrected.xlsx: ['Diptera_32', 'Diptera_32', 'Diptera_32', 'Diptera_32', 'Diptera_32', 'Diptera_33', 'Diptera_34', 'Diptera_35', 'Diptera_35', 'Diptera_35', 'Diptera_35', 'Diptera_36', 'Psocoptera_2', 'Diptera_37', 'Diptera_37', 'Diptera_37', 'Diptera_37', 'Diptera_37', 'Hymenoptera_6', 'Diptera_38', 'Diptera_39', 'Diptera_39', 'Diptera_40', 'Diptera_41', 'Diptera_42', 'Diptera_43', 'Diptera_44', 'Diptera_45', 'Diptera_46', 'Diptera_47', 'Diptera_48', 'Diptera_49', 'Diptera_50', 'Diptera_51', 'Coleoptera_1', 'Coleoptera_2', 'Diptera_1', 'Diptera_2', 'Diptera_2', 'Hymenoptera_1', 'Hymenoptera_1', 'Hymenoptera_1', 'Diptera_3', 'Hemiptera_1', 'Orthoptera_1', 'Diptera_4', 'Diptera_5', 'Diptera_5', 'Diptera_6', 'Diptera_6', 'Diptera_6', 'Diptera_6', 'Diptera_6', 'Diptera_7', 'Diptera_7', 'Diptera_7', 'Diptera_8', 'Diptera_8', 'Diptera_8', 'Diptera_8', 'Diptera_9', 'Diptera_10', 'Diptera_10', 'Diptera_10', 'Diptera_10', 'Diptera_11', 'Diptera_11', 'Diptera_11', 'Diptera_11', 'Diptera_11', 'Hymenoptera_2', 'Hymenoptera_3', 'Diptera_12', 'Diptera_13', 'Diptera_13', 'Diptera_14', 'Diptera_15', 'Diptera_15', 'Diptera_15', 'Diptera_16', 'Diptera_17', 'Diptera_17', 'Diptera_17', 'Diptera_17', 'Diptera_18', 'Diptera_18', 'Diptera_18', 'Hemiptera_2', 'Hymenoptera_4', 'Hymenoptera_5', 'Diptera_19', 'Diptera_19', 'Hymenoptera_6', 'Diptera_20', 'Diptera_21']\n",
      "corrected\\CCDB_35213_Ind_Dna_corrected.xlsx: ['Diptera_1', 'Diptera_2', 'Diptera_3', 'Diptera_4', 'Thysanoptera_1', 'Trichoptera_1', 'Diptera_1', 'Diptera_2', 'Diptera_3', 'Diptera_4', 'Diptera_5', 'Diptera_6', 'Diptera_7', 'Diptera_8', 'Diptera_9', 'Diptera_10', 'Diptera_10', 'Diptera_11', 'Diptera_12', 'Diptera_12', 'Diptera_13', 'Diptera_13', 'Diptera_13', 'Diptera_13', 'Diptera_14', 'Diptera_14', 'Diptera_15', 'Diptera_15', 'Diptera_16', 'Diptera_16', 'Diptera_16', 'Diptera_17', 'Diptera_18', 'Diptera_18', 'Diptera_19', 'Psocoptera_1', 'Diptera_20', 'Diptera_20', 'Diptera_21', 'Diptera_22', 'Diptera_23', 'Diptera_24', 'Diptera_25', 'Diptera_26', 'Diptera_27', 'Diptera_28', 'Diptera_29', 'Diptera_30', 'Diptera_31', 'Diptera_32', 'Diptera_33', 'Hymenoptera_1', 'Trichoptera_2', 'Trichoptera_3', 'Trichoptera_4', 'Homoptera_1', 'Diptera_81', 'Diptera_82', 'Diptera_83', 'Diptera_84', 'Diptera_85', 'Diptera_86', 'Diptera_87', 'Diptera_88', 'Diptera_89', 'Diptera_90', 'Diptera_91', 'Diptera_92', 'Diptera_93', 'Diptera_94', 'Diptera_95', 'Diptera_96', 'Diptera_97', 'Diptera_98', 'Diptera_99', 'Diptera_100', 'Diptera_101', 'Diptera_102', 'Diptera_103', 'Diptera_104', 'Diptera_105', 'Diptera_106', 'Diptera_107', 'Diptera_108', 'Diptera_109', 'Diptera_110', 'Diptera_111', 'Diptera_112', 'Diptera_113', 'Diptera_114', 'Diptera_115', 'Diptera_116', 'Diptera_117', 'Diptera_118', 'Diptera_119']\n",
      "corrected\\CCDB_35762_Ind_Dna_corrected.xlsx: ['Hymenoptera_6', 'Psocoptera_2', 'Orthoptera_3', 'Orthoptera_1', 'Orthoptera_2', 'Orthoptera_2', 'Orthoptera_2', 'Orthoptera_2', 'Orthoptera_2', 'Orthoptera_3', 'Orthoptera_3', 'Orthoptera_3', 'Orthoptera_3', 'Orthoptera_3', 'Orthoptera_4', 'Orthoptera_5', 'Lepidoptera_1', 'Orthoptera_6', 'Diptera_1', 'Diptera_1', 'Diptera_1', 'Diptera_1', 'Diptera_1', 'Diptera_2', 'Diptera_2', 'Diptera_2', 'Diptera_2', 'Diptera_2', 'Coleoptera_1', 'Coleoptera_2', 'Coleoptera_2', 'Coleoptera_2', 'Coleoptera_3', 'Diptera_3', 'Diptera_3', 'Diptera_3', 'Diptera_3', 'Diptera_3', 'Diptera_4', 'Diptera_4', 'Diptera_4', 'Diptera_4', 'Diptera_4', 'Diptera_5', 'Diptera_5', 'Diptera_5', 'Diptera_5', 'Diptera_5', 'Diptera_5', 'Diptera_6', 'Diptera_7', 'Diptera_8', 'Coleoptera_4', 'Hymenoptera_1', 'Hymenoptera_2', 'Hymenoptera_2', 'Hymenoptera_3', 'Hymenoptera_4', 'Diptera_9', 'Hymenoptera_5', 'Hymenoptera_6', 'Hymenoptera_7', 'Hymenoptera_7', 'Hymenoptera_7', 'Hymenoptera_7', 'Hymenoptera_8', 'Hymenoptera_9', 'Diptera_10', 'Diptera_11', 'Diptera_11', 'Diptera_12', 'Hymenoptera_10', 'Diptera_13', 'Diptera_14', 'Diptera_15', 'Hymenoptera_11', 'Hymenoptera_1', 'Diptera_16', 'Orthoptera_7', 'Trichoptera_1', 'Orthoptera_8', 'Orthoptera_9', 'Orthoptera_10', 'Hemiptera_2', 'Orthoptera_11', 'Orthoptera_11', 'Diptera_17', 'Diptera_17', 'Diptera_17', 'Diptera_17', 'Diptera_17', 'Diptera_18', 'Diptera_19', 'Diptera_20', 'Diptera_21']\n",
      "corrected\\CCDB_35763_Ind_Dna_corrected.xlsx: ['Diptera_120', 'Diptera_121', 'Diptera_122', 'Diptera_123', 'Diptera_124', 'Diptera_125', 'Diptera_126', 'Diptera_127', 'Diptera_128', 'Diptera_129', 'Diptera_130', 'Diptera_131', 'Diptera_132', 'Diptera_133', 'Diptera_134', 'Diptera_134', 'Diptera_135', 'Diptera_136', 'Diptera_137', 'Diptera_138', 'Diptera_139', 'Diptera_140', 'Diptera_141', 'Diptera_142', 'Diptera_143', 'Diptera_144', 'Diptera_145', 'Diptera_146', 'Diptera_147', 'Diptera_148', 'Diptera_149', 'Diptera_150', 'Diptera_151', 'Diptera_152', 'Diptera_153', 'Diptera_154', 'Diptera_155', 'Diptera_156', 'Diptera_157', 'Diptera_158', 'Diptera_159', 'Diptera_160', 'Diptera_161', 'Diptera_162', 'Diptera_162', 'Diptera_163', 'Diptera_164', 'Diptera_165', 'Diptera_166', 'Diptera_167', 'Diptera_168', 'Diptera_169', 'Diptera_170', 'Diptera_171', 'Diptera_172', 'Diptera_173', 'Diptera_174', 'Diptera_175', 'Diptera_176', 'Diptera_177', 'Diptera_178', 'Diptera_179', 'Diptera_180', 'Hymenoptera_1', 'Hymenoptera_1', 'Diptera_1', 'Diptera_1', 'Diptera_1', 'Diptera_1', 'Diptera_1', 'Diptera_2', 'Diptera_2', 'Diptera_2', 'Diptera_3', 'Diptera_4', 'Diptera_4', 'Diptera_5', 'Diptera_6', 'Diptera_6', 'Hymenoptera_2', 'Hymenoptera_2', 'Hymenoptera_3', 'Diptera_7', 'Diptera_8', 'Diptera_9', 'Diptera_9', 'Diptera_10', 'Diptera_10', 'Diptera_10', 'Diptera_10', 'Diptera_10', 'Hymenoptera_4', 'Diptera_11', 'Diptera_11', 'Diptera_12']\n",
      "corrected\\CCDB_35768_Ind_Dna_corrected.xlsx: ['Lepidoptera_1', 'Lepidoptera_2', 'Lepidoptera_3', 'Hymenoptera_1', 'Hymenoptera_2', 'Hymenoptera_3', 'Hymenoptera_4', 'Hymenoptera_4', 'Hymenoptera_5', 'Hymenoptera_6', 'Diptera_1', 'Diptera_1', 'Diptera_2', 'Diptera_3', 'Diptera_4', 'Diptera_5', 'Diptera_6', 'Diptera_7', 'Diptera_8', 'Diptera_9', 'Lepidoptera_4', 'Hymenoptera_7', 'Diptera_10', 'Diptera_10', 'Diptera_10', 'Diptera_10', 'Diptera_10', 'Diptera_11', 'Diptera_12', 'Diptera_13', 'Diptera_14', 'Diptera_15', 'Diptera_16', 'Diptera_17', 'Diptera_18', 'Diptera_19', 'Diptera_20', 'Orthoptera_1', 'Orthoptera_1', 'Orthoptera_2', 'Orthoptera_3', 'Orthoptera_4', 'Orthoptera_4', 'Coleoptera_1', 'Coleoptera_2', 'Hymenoptera_8', 'Hymenoptera_8', 'Coleoptera_3', 'Orthoptera_5', 'Orthoptera_5', 'Orthoptera_5', 'Orthoptera_6', 'Orthoptera_6', 'Orthoptera_7', 'Orthoptera_8', 'Orthoptera_9', 'Orthoptera_10', 'Orthoptera_11', 'Orthoptera_12', 'Orthoptera_13', 'Orthoptera_14', 'Diptera_21', 'Diptera_21', 'Diptera_21', 'Diptera_21', 'Diptera_21', 'Diptera_22', 'Diptera_22', 'Diptera_23', 'Diptera_23', 'Diptera_24', 'Diptera_25', 'Diptera_26', 'Diptera_27', 'Diptera_28', 'Homoptera_9', 'Homoptera_10', 'Psocoptera_1', 'Psocoptera_2', 'Hymenoptera_11', 'Hymenoptera_12', 'Hymenoptera_13', 'Hymenoptera_13', 'Hymenoptera_13', 'Hymenoptera_14', 'Hymenoptera_15', 'Hymenoptera_16', 'Hymenoptera_17', 'Orthoptera_15', 'Orthoptera_15', 'Orthoptera_15', 'Coleoptera_4', 'Hymenoptera_18', 'Diptera_22', 'Diptera_22']\n",
      "corrected\\CCDB_35769_Ind_Dna_corrected.xlsx: ['Lepidoptera_1', 'Hymenoptera_1', 'Hymenoptera_2', 'Hymenoptera_2', 'Hymenoptera_3', 'Hymenoptera_4', 'Orthoptera_1', 'Orthoptera_1', 'Orthoptera_2', 'Orthoptera_3', 'Diptera_1', 'Diptera_2', 'Diptera_3', 'Diptera_4', 'Diptera_5', 'Diptera_6', 'Diptera_7', 'Coleoptera_1', 'Diptera_8', 'Diptera_9', 'Diptera_9', 'Diptera_9', 'Diptera_9', 'Diptera_9', 'Diptera_10', 'Diptera_11', 'Diptera_12', 'Diptera_13', 'Diptera_14', 'Diptera_15', 'Diptera_15', 'Isoptera_1', 'Lepidoptera_1', 'Coleoptera_1', 'Coleoptera_1', 'Coleoptera_1', 'Coleoptera_1', 'Orthoptera_1', 'Orthoptera_1', 'Orthoptera_1', 'Diptera_1', 'Diptera_2', 'Diptera_3', 'Diptera_4', 'Diptera_4', 'Hymenoptera_1', 'Psocoptera_1', 'Psocoptera_1', 'Psocoptera_1', 'Diptera_5', 'Diptera_5', 'Hemiptera_1', 'Diptera_6', 'Diptera_7', 'Diptera_8', 'Diptera_8', 'Diptera_9', 'Diptera_10', 'Diptera_11', 'Diptera_12', 'Hymenoptera_2', 'Diptera_13', 'Trichoptera_1', 'Orthoptera_1', 'Orthoptera_2', 'Orthoptera_2', 'Orthoptera_2', 'Orthoptera_3', 'Orthoptera_3', 'Orthoptera_3', 'Lepidoptera_1', 'Diptera_1', 'Diptera_2', 'Diptera_3', 'Diptera_3', 'Diptera_3', 'Diptera_3', 'Diptera_3', 'Orthoptera_1', 'Orthoptera_1', 'Orthoptera_1', 'Orthoptera_1', 'Diptera_1', 'Coleoptera_1', 'Hymenoptera_1', 'Hymenoptera_1', 'Hymenoptera_1', 'Coleoptera_2', 'Diptera_2', 'Diptera_3', 'Diptera_4', 'Diptera_4', 'Hymenoptera_2', 'Hymenoptera_3', 'Hymenoptera_4']\n",
      "corrected\\CCDB_35772_Ind_Dna_corrected.xlsx: ['Diptera_10', 'Diptera_1', 'Diptera_1', 'Diptera_1', 'Diptera_1', 'Diptera_1', 'Diptera_2', 'Hymenoptera_1', 'Diptera_3', 'Diptera_3', 'Diptera_3', 'Diptera_4', 'Diptera_4', 'Diptera_4', 'Diptera_5', 'Orthoptera_1', 'Diptera_6', 'Diptera_7', 'Diptera_8', 'Diptera_9', 'Hymenoptera_2', 'Hymenoptera_3', 'Hymenoptera_4', 'Diptera_10', 'Diptera_10', 'Diptera_11', 'Diptera_12', 'Diptera_12', 'Diptera_12', 'Diptera_12', 'Diptera_13', 'Diptera_14', 'Diptera_15', 'Diptera_16', 'Diptera_17', 'Diptera_18', 'Diptera_19', 'Diptera_20', 'Diptera_21', 'Diptera_22', 'Diptera_23', 'Diptera_24', 'Diptera_25', 'Diptera_26', 'Diptera_27', 'Lepidoptera_1', 'Lepidoptera_2', 'Diptera_1', 'Hymenoptera_1', 'Diptera_2', 'Diptera_3', 'Diptera_3', 'Diptera_3', 'Hymenoptera_2', 'Orthoptera_1', 'Orthoptera_1', 'Orthoptera_1', 'Orthoptera_1', 'Orthoptera_2', 'Orthoptera_2', 'Orthoptera_3', 'Orthoptera_3', 'Orthoptera_4', 'Orthoptera_4', 'Orthoptera_5', 'Hymenoptera_3', 'Hymenoptera_4', 'Diptera_4', 'Diptera_5', 'Diptera_5', 'Diptera_6', 'Diptera_6', 'Diptera_6', 'Diptera_7', 'Diptera_8', 'Diptera_9', 'Diptera_10', 'Diptera_11', 'Diptera_11', 'Orthoptera_6', 'Orthoptera_7', 'Orthoptera_1', 'Diptera_12', 'Diptera_12', 'Diptera_12', 'Diptera_13', 'Diptera_13', 'Diptera_14', 'Diptera_15', 'Diptera_15', 'Diptera_16', 'Diptera_16', 'Coleoptera_1', 'Hymenoptera_5', 'Hymenoptera_6']\n",
      "corrected\\CCDB_35774_Ind_Dna_corrected.xlsx: ['Hymenoptera_7', 'Hymenoptera_8', 'Orthoptera_8', 'Coleoptera_2', 'Hymenoptera_9', 'Hymenoptera_10', 'Hymenoptera_11', 'Hymenoptera_11', 'Diptera_17', 'Diptera_18', 'Diptera_19', 'Diptera_20', 'Diptera_21', 'Diptera_21', 'Diptera_22', 'Diptera_22', 'Diptera_22', 'Diptera_23', 'Diptera_24', 'Diptera_24', 'Diptera_24', 'Diptera_25', 'Diptera_26', 'Diptera_26', 'Diptera_26', 'Diptera_26', 'Diptera_27', 'Diptera_27', 'Diptera_27', 'Lepidoptera_2', 'Lepidoptera_2', 'Diptera_28', 'Diptera_29', 'Diptera_30', 'Diptera_31', 'Diptera_32', 'Diptera_33', 'Diptera_34', 'Diptera_35', 'Diptera_36', 'Diptera_37', 'Diptera_38', 'Diptera_39', 'Diptera_40', 'Diptera_41', 'Diptera_42', 'Diptera_43', 'Diptera_44', 'Coleoptera_1', 'Diptera_1', 'Diptera_1', 'Hymenoptera_1', 'Hymenoptera_1', 'Hymenoptera_1', 'Hymenoptera_1', 'Hymenoptera_1', 'Diptera_2', 'Diptera_2', 'Diptera_2', 'Diptera_2', 'Diptera_2', 'Diptera_3', 'Diptera_3', 'Diptera_4', 'Hymenoptera_2', 'Hymenoptera_3', 'Orthoptera_1', 'Coleoptera_2', 'Lepidoptera_1', 'Hymenoptera_4', 'Hymenoptera_5', 'Hymenoptera_6', 'Hymenoptera_7', 'Hymenoptera_8', 'Hymenoptera_9', 'Hymenoptera_10', 'Hymenoptera_11', 'Hymenoptera_11', 'Hymenoptera_12', 'Coleoptera_3', 'Coleoptera_4', 'Coleoptera_5', 'Coleoptera_6', 'Hymenoptera_13', 'Diptera_5', 'Diptera_5', 'Diptera_6', 'Diptera_6', 'Diptera_6', 'Diptera_6', 'Diptera_6', 'Diptera_7', 'Diptera_8', 'Diptera_8', 'Diptera_8']\n",
      "corrected\\CCDB_37617_Ind_Dna_corrected.xlsx: ['Diptera_8', 'Coleoptera_4', 'Coleoptera_5', 'Hymenoptera_14', 'Hymenoptera_14', 'Hymenoptera_14', 'Hymenoptera_14', 'Hymenoptera_14', 'Orthoptera_1', 'Orthoptera_1', 'Psocoptera_1', 'Psocoptera_1', 'Psocoptera_1', 'Lepidoptera_2', 'Lepidoptera_2', 'Lepidoptera_2', 'Lepidoptera_2', 'Lepidoptera_2', 'Orthoptera_2', 'Orthoptera_2', 'Orthoptera_2', 'Orthoptera_3', 'Orthoptera_3', 'Orthoptera_3', 'Orthoptera_3', 'Hymenoptera_15', 'Hymenoptera_16', 'Hymenoptera_17', 'Hymenoptera_18', 'Hymenoptera_19', 'Hymenoptera_20', 'Hymenoptera_21', 'Diptera_9', 'Diptera_9', 'Psocoptera_2', 'Psocoptera_2', 'Psocoptera_2', 'Psocoptera_2', 'Psocoptera_2', 'Psocoptera_3', 'Psocoptera_3', 'Psocoptera_4', 'Psocoptera_4', 'Psocoptera_5', 'Diptera_10', 'Hymenoptera_22', 'Hymenoptera_23', 'Hymenoptera_24', 'Hymenoptera_25', 'Hymenoptera_26', 'Diptera_10', 'Diptera_10', 'Diptera_10', 'Diptera_10', 'Diptera_11', 'Hymenoptera_27', 'Diptera_12', 'Diptera_12', 'Diptera_12', 'Diptera_13', 'Diptera_14', 'Diptera_14', 'Diptera_15', 'Diptera_15', 'Diptera_16', 'Diptera_16', 'Diptera_17', 'Diptera_17', 'Diptera_18', 'Diptera_18', 'Coleoptera_4', 'Diptera_19', 'Diptera_20', 'Hymenoptera_28', 'Diptera_21', 'Diptera_21', 'Diptera_21', 'Diptera_22', 'Hymenoptera_29', 'Diptera_23', 'Diptera_24', 'Hymenoptera_30', 'Hymenoptera_30', 'Diptera_25', 'Hymenoptera_31', 'Hymenoptera_32', 'Coleoptera_5', 'Diptera_26', 'Diptera_27', 'Diptera_28', 'Diptera_29', 'Diptera_29', 'Diptera_30', 'Diptera_31', 'Diptera_32']\n",
      "corrected\\CCDB_37622_Ind_Dna_corrected.xlsx: ['Hymenoptera_7', 'Hymenoptera_7', 'Hymenoptera_7', 'Hymenoptera_7', 'Hymenoptera_7', 'Hymenoptera_8', 'Hymenoptera_8', 'Hymenoptera_8', 'Hymenoptera_8', 'Hymenoptera_8', 'Orthoptera_1', 'Orthoptera_2', 'Orthoptera_3', 'Orthoptera_4', 'Orthoptera_4', 'Coleoptera_1', 'Hymenoptera_1', 'Hymenoptera_2', 'Coleoptera_2', 'Coleoptera_2', 'Orthoptera_5', 'Orthoptera_6', 'Orthoptera_7', 'Hymenoptera_3', 'Hymenoptera_4', 'Hymenoptera_4', 'Hymenoptera_4', 'Hymenoptera_5', 'Hymenoptera_5', 'Hymenoptera_5', 'Hymenoptera_5', 'Hymenoptera_5', 'Collembola_1', 'Coleoptera_1', 'Coleoptera_2', 'Coleoptera_3', 'Coleoptera_3', 'Coleoptera_3', 'Coleoptera_3', 'Hymenoptera_1', 'Hymenoptera_1', 'Hymenoptera_1', 'Hymenoptera_2', 'Hymenoptera_2', 'Hymenoptera_2', 'Hymenoptera_2', 'Hymenoptera_3', 'Diptera_1', 'Collembola_1', 'Hymenoptera_1', 'Hymenoptera_2', 'Hymenoptera_2', 'Hymenoptera_3', 'Hymenoptera_4', 'Plecoptera_1', 'Coleoptera_1', 'Coleoptera_1', 'Orthoptera_1', 'Psocoptera_1', 'Hymenoptera_1', 'Hymenoptera_1', 'Hymenoptera_1', 'Diptera_1', 'Hymenoptera_1', 'Hymenoptera_2', 'Hymenoptera_3', 'Hymenoptera_3', 'Hymenoptera_3', 'Ephemeroptera_1', 'Coleoptera_1', 'Coleoptera_2', 'Coleoptera_3', 'Coleoptera_4', 'Hymenoptera_4', 'Hymenoptera_4', 'Hymenoptera_4', 'Hymenoptera_5', 'Hymenoptera_6', 'Hymenoptera_7', 'Psocoptera_1', 'Diptera_2', 'Diptera_3', 'Diptera_3', 'Diptera_3', 'Diptera_3', 'Diptera_3', 'Diptera_4', 'Diptera_4', 'Diptera_4', 'Diptera_4', 'Diptera_4', 'Diptera_5', 'Diptera_5', 'Diptera_5', 'Diptera_5']\n"
     ]
    },
    {
     "name": "stdout",
     "output_type": "stream",
     "text": [
      "corrected\\CCDB_37623_Ind_Dna_corrected.xlsx: ['Diptera_5', 'Diptera_6', 'Diptera_6', 'Diptera_6', 'Diptera_6', 'Diptera_6', 'Psocoptera_1', 'Homoptera_1', 'Hymenoptera_1', 'Hymenoptera_2', 'Hymenoptera_2', 'Hymenoptera_3', 'Hymenoptera_3', 'Hymenoptera_3', 'Hymenoptera_4', 'Hymenoptera_4', 'Diptera_1', 'Diptera_2', 'Psocoptera_2', 'Psocoptera_2', 'Hymenoptera_5', 'Hymenoptera_6', 'Hymenoptera_7', 'Hymenoptera_8', 'Trichoptera_1', 'Diptera_1', 'Diptera_2', 'Diptera_2', 'Diptera_3', 'Diptera_4', 'Diptera_5', 'Hymenoptera_1', 'Hymenoptera_2', 'Homoptera_1', 'Hymenoptera_3', 'Psocoptera_1', 'Thysanoptera_1', 'Hymenoptera_4', 'Orthoptera_1', 'Thysanoptera_2', 'Ephemeroptera_1', 'Diptera_6', 'Diptera_6', 'Diptera_6', 'Diptera_6', 'Diptera_6', 'Diptera_7', 'Diptera_8', 'Diptera_8', 'Diptera_8', 'Diptera_8', 'Diptera_8', 'Hymenoptera_1', 'Coleoptera_1', 'Coleoptera_2', 'Orthoptera_1', 'Orthoptera_1', 'Orthoptera_1', 'Orthoptera_1', 'Orthoptera_1', 'Orthoptera_2', 'Orthoptera_3', 'Orthoptera_3', 'Orthoptera_3', 'Diptera_1', 'Homoptera_1', 'Diptera_2', 'Diptera_3', 'Diptera_4', 'Diptera_5', 'Diptera_6', 'Diptera_7', 'Diptera_8', 'Diptera_8', 'Diptera_9', 'Diptera_9', 'Diptera_10', 'Coleoptera_1', 'Coleoptera_2', 'Coleoptera_3', 'Coleoptera_3', 'Coleoptera_3', 'Coleoptera_3', 'Coleoptera_3', 'Hymenoptera_1', 'Hymenoptera_1', 'Coleoptera_1', 'Hymenoptera_1', 'Hymenoptera_1', 'Hymenoptera_2', 'Hymenoptera_2', 'Hymenoptera_3', 'Orthoptera_1', 'Orthoptera_1', 'Orthoptera_1']\n",
      "corrected\\CCDB_37632_Ind_Dna_corrected.xlsx: ['Diptera_30', 'Diptera_31', 'Diptera_31', 'Diptera_32', 'Diptera_33', 'Diptera_34', 'Diptera_35', 'Diptera_36', 'Diptera_37', 'Diptera_38', 'Diptera_38', 'Hymenoptera_8', 'Hymenoptera_9', 'Coleoptera_1', 'Coleoptera_2', 'Coleoptera_3', 'Coleoptera_4', 'Diptera_1', 'Diptera_1', 'Diptera_2', 'Diptera_3', 'Diptera_3', 'Diptera_3', 'Diptera_3', 'Diptera_4', 'Diptera_5', 'Diptera_6', 'Diptera_7', 'Diptera_8', 'Diptera_8', 'Diptera_8', 'Diptera_9', 'Diptera_9', 'Diptera_9', 'Diptera_9', 'Diptera_9', 'Diptera_10', 'Diptera_10', 'Diptera_10', 'Diptera_11', 'Diptera_12', 'Diptera_12', 'Diptera_12', 'Diptera_12', 'Diptera_12', 'Diptera_13', 'Hymenoptera_1', 'Hymenoptera_1', 'Diptera_14', 'Diptera_15', 'Hymenoptera_2', 'Hymenoptera_3', 'Hymenoptera_4', 'Diptera_16', 'Hymenoptera_5', 'Diptera_17', 'Diptera_17', 'Diptera_17', 'Diptera_17', 'Diptera_17', 'Diptera_18', 'Diptera_18', 'Diptera_19', 'Diptera_20', 'Diptera_20', 'Diptera_20', 'Diptera_20', 'Diptera_20', 'Diptera_21', 'Diptera_21', 'Diptera_22', 'Diptera_23', 'Diptera_24', 'Diptera_25', 'Diptera_26', 'Diptera_27', 'Diptera_27', 'Diptera_27', 'Diptera_28', 'Diptera_28', 'Diptera_28', 'Diptera_28', 'Diptera_29', 'Diptera_29', 'Diptera_29', 'Orthoptera_1', 'Orthoptera_2', 'Orthoptera_3', 'Hemiptera_1', 'Psocoptera_1', 'Psocoptera_1', 'Psocoptera_1', 'Diptera_30', 'Diptera_30', 'Diptera_31']\n"
     ]
    }
   ],
   "source": [
    "for file in files:\n",
    "    temp_df = pd.read_excel(file, sheet_name='Individuals')\n",
    "    # Specifying the column [TemporaryName in this case] to be autocorrected\n",
    "    # TODO: make it possible to correct several columns at the same time.\n",
    "    orders = temp_df['TemporaryName'].astype(str)\n",
    "    d = enchant.request_pwl_dict('./orderlist.txt')  # loading custom dictionary to be used\n",
    "    checker = SpellChecker(d)  # Specifying to SpellChecker which dictionary to use\n",
    "    corrected_list = []  # Initializing final list of autocorrected words\n",
    "\n",
    "    #  Looping through words in column of interested  and correcting them\n",
    "    for order in orders:\n",
    "        parts = re.split('_+', order)  # Splitting the order name into\n",
    "        checker.set_text(parts[0])  # Spell Checking the name part of the 'Order'\n",
    "        suggested = checker.suggest(parts[0])  # Correcting any spelling mistakes\n",
    "        for suggestion in suggested:\n",
    "            suggestion = suggestion + '_' + parts[1]  # Recombining the name and number for the individual\n",
    "            corrected_list.append(suggestion)  # Adding the corrected names to a corrected list\n",
    "\n",
    "    temp_df['Temporary_name'] = corrected_list  # Replacing errors in the 'TemporaryName' column with the\n",
    "    \n",
    "    # uncomment the line below to print the list of corrected order names:\n",
    "    # print(len(corrected_list),  ':', corrected_list) \n",
    "    \n",
    "    # Remove the ['.file extension'] (line 1) and add '_corrected' to the file name (line 2)\n",
    "    new_file = file.split('.') \n",
    "    new_file_name = (new_file[0] + '_corrected.' + new_file[1]).replace('data', 'corrected')\n",
    "    \n",
    "    # Print out each file name and it's corresponding \n",
    "    print(new_file_name + ':', corrected_list)\n",
    "    \n",
    "    # uncomment the line below to save the file with the corrections in the 'corrected' folder:\n",
    "    # temp_df.to_excel('./' + new_file_name)"
   ]
  },
  {
   "cell_type": "code",
   "execution_count": null,
   "id": "0a94e021",
   "metadata": {},
   "outputs": [],
   "source": []
  }
 ],
 "metadata": {
  "kernelspec": {
   "display_name": "Python 3 (ipykernel)",
   "language": "python",
   "name": "python3"
  },
  "language_info": {
   "codemirror_mode": {
    "name": "ipython",
    "version": 3
   },
   "file_extension": ".py",
   "mimetype": "text/x-python",
   "name": "python",
   "nbconvert_exporter": "python",
   "pygments_lexer": "ipython3",
   "version": "3.10.4"
  }
 },
 "nbformat": 4,
 "nbformat_minor": 5
}
